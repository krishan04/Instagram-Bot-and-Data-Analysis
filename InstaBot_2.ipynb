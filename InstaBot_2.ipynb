{
 "cells": [
  {
   "cell_type": "code",
   "execution_count": 128,
   "id": "a82b00ed-35d9-475d-b846-39f71b723e88",
   "metadata": {},
   "outputs": [],
   "source": [
    "from selenium import webdriver\n",
    "from selenium.webdriver.common.keys import Keys\n",
    "import time\n",
    "from bs4 import BeautifulSoup\n",
    "from selenium.webdriver.support.ui import WebDriverWait\n",
    "from selenium.webdriver.support import expected_conditions as EC\n",
    "from selenium.webdriver.common.by import By\n",
    "import matplotlib.pyplot as plt\n",
    "from datetime import datetime, timedelta\n",
    "import pandas as pd"
   ]
  },
  {
   "cell_type": "code",
   "execution_count": 100,
   "id": "80d2e97f-5752-4f8b-b616-6512f1c99cd0",
   "metadata": {},
   "outputs": [],
   "source": [
    "username = 'Hrygduhfi'\n",
    "password = 'Paawan@123'"
   ]
  },
  {
   "cell_type": "code",
   "execution_count": 101,
   "id": "6ddde5ab-7688-411b-9ade-469311c98b0a",
   "metadata": {},
   "outputs": [],
   "source": [
    "driver = webdriver.Chrome()\n",
    "driver.get(\"https://www.instagram.com/\")\n",
    "driver.maximize_window()"
   ]
  },
  {
   "cell_type": "code",
   "execution_count": 102,
   "id": "738eb8e5-a871-4cbe-b65b-4aba52e42bfc",
   "metadata": {},
   "outputs": [],
   "source": [
    "wait = WebDriverWait(driver,20)"
   ]
  },
  {
   "cell_type": "code",
   "execution_count": 103,
   "id": "cca499de-6b49-450b-bc3a-b245f59c2ae9",
   "metadata": {},
   "outputs": [],
   "source": [
    "wait.until(EC.presence_of_element_located((By.NAME,'username'))).send_keys(username)\n",
    "wait.until(EC.presence_of_element_located((By.NAME,'password'))).send_keys(password)\n",
    "wait.until(EC.presence_of_element_located((By.XPATH,'//*[@id=\"loginForm\"]/div/div[3]/button'))).click()\n",
    "wait.until(EC.presence_of_element_located((By.CLASS_NAME,'_ac8f'))).click()\n",
    "wait.until(EC.presence_of_element_located((By.CLASS_NAME,'_a9--'))).click()"
   ]
  },
  {
   "cell_type": "markdown",
   "id": "8c9402fa-51d8-4c97-862d-32fac21b2894",
   "metadata": {},
   "source": [
    "Problem 1"
   ]
  },
  {
   "cell_type": "markdown",
   "id": "fc6d78a6-ef8e-4f96-a95c-deb804075bb6",
   "metadata": {},
   "source": [
    "1. From the list of instagram handles you obtained when you searched ‘food’ in previous project. Open the first 10 handles and find the top 5 which have the highest number of followers"
   ]
  },
  {
   "cell_type": "code",
   "execution_count": 240,
   "id": "401e75be-c8f3-44ba-96df-c6e875c6daf2",
   "metadata": {},
   "outputs": [],
   "source": [
    "div = driver.find_elements('tag name', \"svg\")\n",
    "div[2].click()\n",
    "time.sleep(2)\n",
    "Search = driver.find_elements('tag name','input')\n",
    "Search[0].send_keys(\"food\")"
   ]
  },
  {
   "cell_type": "code",
   "execution_count": 104,
   "id": "36842b29-17ca-4c8d-81ae-e8968d76554d",
   "metadata": {},
   "outputs": [],
   "source": [
    "def Search(string,n):\n",
    "    User_Handle={}\n",
    "    wait.until(EC.presence_of_element_located((By.XPATH,'/html/body/div[2]/div/div/div[2]/div/div/div[1]/div[1]/div[1]/div/div/div/div/div[2]/div[2]/span/div'))).click()\n",
    "    search_input = wait.until(EC.presence_of_element_located((By.XPATH,'//input[@placeholder=\"Search\"]')))\n",
    "    #search_input.clear()\n",
    "    search_input.send_keys(string)\n",
    "    userId = wait.until(EC.presence_of_all_elements_located((By.XPATH,'/html/body/div[2]/div/div/div[2]/div/div/div[1]/div[1]/div[1]/div/div/div[2]/div/div/div[2]/div/div/div[2]/div/a')))\n",
    "\n",
    "    base_url = \"https://instagram.com\"\n",
    "\n",
    "    # store user handle with their handle link\n",
    "    count=0\n",
    "    for i in userId:\n",
    "        \n",
    "        if count>=n:\n",
    "            break\n",
    "        html_content=i.get_attribute('outerHTML')\n",
    "        User_Link = BeautifulSoup(html_content,'html.parser').a['href']\n",
    "        Get_User_Handle = User_Link.split('/')[1]\n",
    "        if Get_User_Handle!='explore':\n",
    "            User_Handle[Get_User_Handle]=base_url+User_Link\n",
    "            count+=1\n",
    "    \n",
    "            \n",
    "    return User_Handle"
   ]
  },
  {
   "cell_type": "code",
   "execution_count": 105,
   "id": "58d7fde4-83c1-47aa-81a7-f1dd545ce977",
   "metadata": {},
   "outputs": [],
   "source": [
    "User_Ids = Search(\"food\",10)"
   ]
  },
  {
   "cell_type": "code",
   "execution_count": 106,
   "id": "06dc27e0-d554-46a8-994c-9d0b6e738621",
   "metadata": {},
   "outputs": [
    {
     "data": {
      "text/plain": [
       "{'foodtalkindia': 'https://instagram.com/foodtalkindia/',\n",
       " '_food_entertainment': 'https://instagram.com/_food_entertainment/',\n",
       " 'punjabi_food_factory': 'https://instagram.com/punjabi_food_factory/',\n",
       " 'foodbloggerandrea': 'https://instagram.com/foodbloggerandrea/',\n",
       " 'dilsefoodie': 'https://instagram.com/dilsefoodie/',\n",
       " 'pune_food_blogger': 'https://instagram.com/pune_food_blogger/',\n",
       " 'food': 'https://instagram.com/food/',\n",
       " 'bhukkad_chandigarians': 'https://instagram.com/bhukkad_chandigarians/',\n",
       " 'mumbaifoodjunkie': 'https://instagram.com/mumbaifoodjunkie/',\n",
       " 'food_lunatic': 'https://instagram.com/food_lunatic/'}"
      ]
     },
     "execution_count": 106,
     "metadata": {},
     "output_type": "execute_result"
    }
   ],
   "source": [
    "User_Ids"
   ]
  },
  {
   "cell_type": "code",
   "execution_count": 107,
   "id": "75852893-0021-4f35-bf45-fc1fa9ae7b61",
   "metadata": {},
   "outputs": [],
   "source": [
    "def Count_Followers(user_Handle_link):\n",
    "    driver.get(user_Handle_link)\n",
    "    time.sleep(2)\n",
    "    data = wait.until(EC.presence_of_element_located((By.PARTIAL_LINK_TEXT,'followers')))\n",
    "    Follower_count = BeautifulSoup(data.get_attribute('outerHTML'),'html.parser').span['title']\n",
    "    Follower_count=int(Follower_count.replace(',',''))\n",
    "    return Follower_count"
   ]
  },
  {
   "cell_type": "code",
   "execution_count": 108,
   "id": "b792f06c-1a15-4391-8dd5-4df45bf6846c",
   "metadata": {},
   "outputs": [
    {
     "name": "stdout",
     "output_type": "stream",
     "text": [
      "dilsefoodie ---> 1243815 Followers\n",
      "foodtalkindia ---> 308752 Followers\n",
      "food_lunatic ---> 233638 Followers\n",
      "pune_food_blogger ---> 219396 Followers\n",
      "food ---> 182041 Followers\n"
     ]
    }
   ],
   "source": [
    "Followers_of_user = {}\n",
    "for user_Id,Link in User_Ids.items():\n",
    "    follower = Count_Followers(Link)\n",
    "    Followers_of_user[user_Id]=follower\n",
    "Top_5_handle=[]\n",
    "Top_5_followed_user={}\n",
    "Followers = sorted(Followers_of_user.items(), key=lambda x: x[1], reverse=True)[:5] # Sort based on values\n",
    "for i in Followers:\n",
    "    print(i[0],'--->',i[1],'Followers')\n",
    "    Top_5_followed_user[i[0]]=i[1]\n",
    "    Top_5_handle.append(i[0])"
   ]
  },
  {
   "cell_type": "code",
   "execution_count": 109,
   "id": "9c7164a6-e57f-4656-8bf4-1d8fd4eee8f9",
   "metadata": {},
   "outputs": [
    {
     "data": {
      "image/png": "[encoded data removed]",
      "text/plain": [
       "<Figure size 500x1000 with 1 Axes>"
      ]
     },
     "metadata": {},
     "output_type": "display_data"
    }
   ],
   "source": [
    "count = list(Top_5_followed_user.values())\n",
    "userId = list(Top_5_followed_user.keys())\n",
    "\n",
    "plt.figure(figsize=(5,10))\n",
    "plt.pie(count,labels=userId,autopct=\"%.2f%%\",counterclock=False,startangle=110)\n",
    "plt.title('Top 5 user which have the highest number of followers ',fontsize=20, color='green',alpha=0.8)\n",
    "plt.show()"
   ]
  },
  {
   "cell_type": "markdown",
   "id": "4d0701be-8f81-43a5-a442-ccce99386cb5",
   "metadata": {},
   "source": [
    "2. Now Find the number of posts these handles have done in the previous 3 days."
   ]
  },
  {
   "cell_type": "code",
   "execution_count": 110,
   "id": "27cf3913-8a48-44a4-a5d4-d89846f13229",
   "metadata": {},
   "outputs": [],
   "source": [
    "def Number_of_Post(user_url,No_of_Days):\n",
    "        \n",
    "    driver.get(user_url)\n",
    "    time.sleep(2)\n",
    "    First_Post = wait.until(EC.presence_of_element_located((By.CLASS_NAME,'_aagw')))\n",
    "    First_Post.click()\n",
    "    no_of_post=0\n",
    "    while True:\n",
    "        time_of_post = wait.until(EC.presence_of_element_located((By.XPATH,'//time[@class=\"x1p4m5qa\"]'))).get_attribute('datetime')\n",
    "        date_of_post = datetime.strptime(time_of_post[0:19], \"%Y-%m-%dT%H:%M:%S\")\n",
    "        if (datetime.now() - date_of_post).days > No_of_Days :\n",
    "            break\n",
    "        else :\n",
    "            no_of_post += 1\n",
    "\n",
    "        Next_post = wait.until(EC.presence_of_element_located((By.CLASS_NAME,'_aaqg._aaqh')))\n",
    "        Next_post.click()\n",
    "        time.sleep(2)\n",
    "\n",
    "    driver.back()\n",
    "    return no_of_post"
   ]
  },
  {
   "cell_type": "code",
   "execution_count": 111,
   "id": "088af835-2221-4621-97f3-c6f5e84d67be",
   "metadata": {},
   "outputs": [
    {
     "name": "stdout",
     "output_type": "stream",
     "text": [
      "dilsefoodie -----> 0 Posts\n",
      "foodtalkindia -----> 4 Posts\n",
      "food_lunatic -----> 3 Posts\n",
      "pune_food_blogger -----> 3 Posts\n",
      "food -----> 0 Posts\n"
     ]
    }
   ],
   "source": [
    "no_of_post_per_user = {}\n",
    "for Id in Top_5_handle:\n",
    "    user_url = User_Ids[Id]\n",
    "    Post_count = Number_of_Post(user_url,3)\n",
    "    no_of_post_per_user[Id] = Post_count\n",
    "    \n",
    "# print the user id and number of post have done by user in 3 days\n",
    "for ID,Count in no_of_post_per_user.items():\n",
    "    print(ID,'----->',Count,'Posts')"
   ]
  },
  {
   "cell_type": "code",
   "execution_count": 112,
   "id": "3566f5a8-56b4-44ea-8f2d-85b7843dfded",
   "metadata": {},
   "outputs": [
    {
     "data": {
      "image/png": "[encoded data removed]",
      "text/plain": [
       "<Figure size 640x480 with 1 Axes>"
      ]
     },
     "metadata": {},
     "output_type": "display_data"
    }
   ],
   "source": [
    "x = no_of_post_per_user.keys()\n",
    "y = no_of_post_per_user.values()\n",
    "\n",
    "plt.bar(x,y,color='g',alpha=0.7)\n",
    "plt.ylabel(\"No. of posts in the previous 3 days\",size=12)\n",
    "plt.xlabel(\"Instagram handles\",size=12)\n",
    "plt.xticks(rotation = 45)\n",
    "plt.title('Most Followed user vs Number of recent posts ',fontsize=20, color='green',alpha=0.8)\n",
    "plt.grid()\n",
    "plt.show()\n"
   ]
  },
  {
   "cell_type": "markdown",
   "id": "24916808-ccca-40a1-b7db-19bba14cc57e",
   "metadata": {},
   "source": [
    "Problem 1"
   ]
  },
  {
   "cell_type": "markdown",
   "id": "66e09597-cad5-4613-abbc-1b08272c2d17",
   "metadata": {},
   "source": [
    "1. Open the 5 handles you obtained in the last question, and scrape the content of the first 10 posts of each handle."
   ]
  },
  {
   "cell_type": "code",
   "execution_count": 125,
   "id": "55a63344-e296-4937-92d5-b3b416a7df73",
   "metadata": {},
   "outputs": [],
   "source": [
    "def content_of_post(user_url,No_of_post):\n",
    "        \n",
    "    Text_list = []\n",
    "    driver.get(user_url)\n",
    "    time.sleep(2)\n",
    "    First_Post = wait.until(EC.presence_of_element_located((By.CLASS_NAME,'_aagw')))\n",
    "    First_Post.click()\n",
    "    no_of_post=0\n",
    "    while True:\n",
    "\n",
    "        HTML = wait.until(EC.presence_of_element_located((By.CLASS_NAME,'_a9zs')))\n",
    "        Texts = BeautifulSoup(HTML.get_attribute('innerHTML'),'html.parser').find_all('a')\n",
    "        \n",
    "        # get the text\n",
    "        for text in Texts:\n",
    "            text=text.text\n",
    "            if text[0]!='@':\n",
    "                Text_list.append(text)\n",
    "        no_of_post += 1\n",
    "        if No_of_post==no_of_post:\n",
    "            break\n",
    "\n",
    "        Next_post = wait.until(EC.presence_of_element_located((By.CLASS_NAME,'_aaqg._aaqh')))\n",
    "        Next_post.click()\n",
    "        time.sleep(2)\n",
    "\n",
    "    driver.back()\n",
    "    return Text_list"
   ]
  },
  {
   "cell_type": "code",
   "execution_count": 126,
   "id": "3d9d0196-9109-438d-a08c-4eb9f571a66d",
   "metadata": {},
   "outputs": [
    {
     "name": "stdout",
     "output_type": "stream",
     "text": [
      "dilsefoodie ---> ['#dilsefoodie', '#food', '#afeemhandi', '#omelette', '#streetfood', '#dilsefoodie', '#food', '#streetfood', '#cholekulche', '#harghartiranga', '#75For75', '#amritmohatsav', '#DilSeDesi', '#dilsefoodie', '#dilsefoodie', '#punjab', '#streetfood', '#lassi', '#gianilassi', '#dilsefoodie', '#food', '#nonveg', '#chicken', '#mutton', '#dilsefoodie', '#food', '#bangalore', '#nonvegfood', '#dilsefoodie', '#buffet', '#gurgaon', '#unlimitedfood', '#nonveg', '#vegetarian', '#streetfood', '#cheese', '#dilsefoodie', '#food', '#Avatara', '#dubai', '#mumbai', '#dilsefoodie', '#food', '#latenight', '#nonveg', '#dilsefoodie', '#food', '#tikkamasala', '#latenight']\n",
      "\n",
      "foodtalkindia ---> ['#NewInTown', '#NewInTown', '#NewInTown']\n",
      "\n",
      "food_lunatic ---> ['#wedding', '#bride', '#newlyweds', '#bridalpictures', '#whatiwore', '#photodump', '#love', '#weddingpictures', '#haldiceremony', '#weddingdiaries', '#photodump', '#bridetobe', '#family', '#weddingpictures', '#indianwedding', '#memories', '#whatiwore', '#mehendi', '#weddingdiaries', '#photodump', '#bridetobe', '#family', '#weddingpictures', '#indianwedding', '#memories', '#whatiwore', '#streetfood', '#tasty', '#noida', '#explorenoida', '#love', '#chaat', '#golgappe', '#kiosk', '#viral', '#trending', '#papad', '#papaddosa', '#dosa', '#quickrecipe', '#cookinghack', '#recipe', '#recipevideo', '#tasty', '#asmr', '#GiveawayAlert', '#AD', '#emamihealthyandtasty', '#aslijhanjh', '#emamisarsontel', '#emamimustardoil', '#recipe', '#recipevideo', '#tasty', '#viral', '#pulsemojito', '#viraldrink', '#trending', '#recipe', '#recipevideo', '#tasty', '#pulse', '#asmr', '#chholebhature', '#love', '#onelove', '#streetfood', '#trending', '#tasty', '#trend', '#recipe', '#recipevideo', '#easyrecipe', '#bakedpasta', '#pastarecipe', '#cheesy', '#tasty', '#mango', '#mangoseason', '#chilli', '#chillimango', '#drinks', '#recipe', '#recipevideo']\n",
      "\n",
      "pune_food_blogger ---> ['#punefoodblogger', '#pune', '#punekar', '#kebab', '#kathiroll', '#rolls', '#streetfood', '#yummy', '#food', '#explore', '#explorepage', '#trendingreels', '#reels', '#reelsinstagram', '#instagood', '#punefoodblogger', '#pune', '#punekar', '#summer', '#icecream', '#colddrink', '#explore', '#explorepage', '#trend', '#trendingreels', '#reels', '#reelsinstagram', '#reelitfeelit', '#punefoodblogger', '#punekar', '#pune', '#domino', '#dominospizza🍕', '#dominosoffers', '#affordable', '#lunch', '#deal', '#food', '#pocketfriendly', '#pizza', '#pizzatime', '#trendingreels', '#trending', '#trendingnow', '#reels', '#reelsinstagram', '#punefoodblogger', '#punecity', '#mastani', '#colddrink', '#explore', '#explorepage', '#trending', '#trendingreels', '#reels', '#reelsinstagram', '#reelitfeelit', '#pune', '#food', '#summer', '#punefood', '#punekar', '#punefoodblogger', '#food', '#explorar', '#explore', '#trending', '#trendingreels', '#reels', '#reelsinstagram', '#punefoodblogger', '#pune', '#punekar', '#streetfood', '#chai', '#breakfast', '#breakfastideas', '#affordable', '#explore', '#explorepage', '#trending', '#punefood', '#punefoodblogger', '#foodblogger', '#foodie', '#pavbhaji', '#pureveg', '#resturant', '#explore', '#explorepage', '#pune', '#punekar', '#punecity', '#punefoodblogger', '#pune', '#pizza', '#pizzalover', '#cheese', '#delicious', '#yummy', '#offer', '#deals', '#zomato', '#punecity', '#punekars', '#explore', '#explorepage', '#trending', '#punefoodblogger', '#stay', '#staysafe', '#staycation', '#hotel', '#hotels', '#punekar', '#pune', '#punecity', '#explorepage', '#explore', '#trendingreels', '#punefoodblogger', '#punekar', '#punecity', '#pune', '#shopping', '#shop', '#affordable', '#affordablefashion', '#stall', '#exhibition', '#fashion', '#brands', '#deal', '#sale']\n",
      "\n",
      "food ---> ['#desserts', '#foodstyling', '#cakes', '#foodart', '#japan', '#seafood', '#shrimp', '#lobster', '#redlobster', '#seinfeld', '#georgecastanza', '#restaurants', '#italy', '#italianrestaurant', '#italianfood', '#wine', '#ketchup', '#heinz', '#marketing', '#miamibeach', '#miami', '#miamirestaurants', '#michelinstar', '#pickles', '#pickleball', '#pickleballislife', '#picklelover', '#momofuku', '#chilicrunch', '#spicy', '#asianfood', '#koreanfood', '#foodbrand', '#amazon', '#grocery', '#groceryshopping', '#technology', '#ai', '#eclipse', '#earthquake', '#newyorkcity', '#njearthquake', '#nycearthquake', '#seafood', '#lobster', '#seafoodlovers', '#restaurant', '#comedy', '#news']\n",
      "\n"
     ]
    }
   ],
   "source": [
    "words_of_5_user = []\n",
    "for Id in Top_5_handle:\n",
    "    user_url = User_Ids[Id]\n",
    "    text_list = content_of_post(user_url,10)\n",
    "    words_of_5_user.extend(text_list)\n",
    "    print(Id,'--->',text_list)\n",
    "    print()"
   ]
  },
  {
   "cell_type": "markdown",
   "id": "c68c679a-4b77-4272-968c-fc182a34c1e6",
   "metadata": {},
   "source": [
    "2. Prepare a list of all words used in all the scraped posts and calculate the frequency of each word."
   ]
  },
  {
   "cell_type": "code",
   "execution_count": 127,
   "id": "ba8cb73f-1417-48a3-81d9-25d327a9acbd",
   "metadata": {},
   "outputs": [
    {
     "data": {
      "text/plain": [
       "{'#dilsefoodie': 10,\n",
       " '#food': 11,\n",
       " '#afeemhandi': 1,\n",
       " '#omelette': 1,\n",
       " '#streetfood': 8,\n",
       " '#cholekulche': 1,\n",
       " '#harghartiranga': 1,\n",
       " '#75For75': 1,\n",
       " '#amritmohatsav': 1,\n",
       " '#DilSeDesi': 1,\n",
       " '#punjab': 1,\n",
       " '#lassi': 1,\n",
       " '#gianilassi': 1,\n",
       " '#nonveg': 3,\n",
       " '#chicken': 1,\n",
       " '#mutton': 1,\n",
       " '#bangalore': 1,\n",
       " '#nonvegfood': 1,\n",
       " '#buffet': 1,\n",
       " '#gurgaon': 1,\n",
       " '#unlimitedfood': 1,\n",
       " '#vegetarian': 1,\n",
       " '#cheese': 2,\n",
       " '#Avatara': 1,\n",
       " '#dubai': 1,\n",
       " '#mumbai': 1,\n",
       " '#latenight': 2,\n",
       " '#tikkamasala': 1,\n",
       " '#NewInTown': 3,\n",
       " '#wedding': 1,\n",
       " '#bride': 1,\n",
       " '#newlyweds': 1,\n",
       " '#bridalpictures': 1,\n",
       " '#whatiwore': 3,\n",
       " '#photodump': 3,\n",
       " '#love': 3,\n",
       " '#weddingpictures': 3,\n",
       " '#haldiceremony': 1,\n",
       " '#weddingdiaries': 2,\n",
       " '#bridetobe': 2,\n",
       " '#family': 2,\n",
       " '#indianwedding': 2,\n",
       " '#memories': 2,\n",
       " '#mehendi': 1,\n",
       " '#tasty': 6,\n",
       " '#noida': 1,\n",
       " '#explorenoida': 1,\n",
       " '#chaat': 1,\n",
       " '#golgappe': 1,\n",
       " '#kiosk': 1,\n",
       " '#viral': 2,\n",
       " '#trending': 8,\n",
       " '#papad': 1,\n",
       " '#papaddosa': 1,\n",
       " '#dosa': 1,\n",
       " '#quickrecipe': 1,\n",
       " '#cookinghack': 1,\n",
       " '#recipe': 5,\n",
       " '#recipevideo': 5,\n",
       " '#asmr': 2,\n",
       " '#GiveawayAlert': 1,\n",
       " '#AD': 1,\n",
       " '#emamihealthyandtasty': 1,\n",
       " '#aslijhanjh': 1,\n",
       " '#emamisarsontel': 1,\n",
       " '#emamimustardoil': 1,\n",
       " '#pulsemojito': 1,\n",
       " '#viraldrink': 1,\n",
       " '#pulse': 1,\n",
       " '#chholebhature': 1,\n",
       " '#onelove': 1,\n",
       " '#trend': 2,\n",
       " '#easyrecipe': 1,\n",
       " '#bakedpasta': 1,\n",
       " '#pastarecipe': 1,\n",
       " '#cheesy': 1,\n",
       " '#mango': 1,\n",
       " '#mangoseason': 1,\n",
       " '#chilli': 1,\n",
       " '#chillimango': 1,\n",
       " '#drinks': 1,\n",
       " '#punefoodblogger': 10,\n",
       " '#pune': 9,\n",
       " '#punekar': 8,\n",
       " '#kebab': 1,\n",
       " '#kathiroll': 1,\n",
       " '#rolls': 1,\n",
       " '#yummy': 2,\n",
       " '#explore': 8,\n",
       " '#explorepage': 7,\n",
       " '#trendingreels': 6,\n",
       " '#reels': 5,\n",
       " '#reelsinstagram': 5,\n",
       " '#instagood': 1,\n",
       " '#summer': 2,\n",
       " '#icecream': 1,\n",
       " '#colddrink': 2,\n",
       " '#reelitfeelit': 2,\n",
       " '#domino': 1,\n",
       " '#dominospizza🍕': 1,\n",
       " '#dominosoffers': 1,\n",
       " '#affordable': 3,\n",
       " '#lunch': 1,\n",
       " '#deal': 2,\n",
       " '#pocketfriendly': 1,\n",
       " '#pizza': 2,\n",
       " '#pizzatime': 1,\n",
       " '#trendingnow': 1,\n",
       " '#punecity': 5,\n",
       " '#mastani': 1,\n",
       " '#punefood': 2,\n",
       " '#explorar': 1,\n",
       " '#chai': 1,\n",
       " '#breakfast': 1,\n",
       " '#breakfastideas': 1,\n",
       " '#foodblogger': 1,\n",
       " '#foodie': 1,\n",
       " '#pavbhaji': 1,\n",
       " '#pureveg': 1,\n",
       " '#resturant': 1,\n",
       " '#pizzalover': 1,\n",
       " '#delicious': 1,\n",
       " '#offer': 1,\n",
       " '#deals': 1,\n",
       " '#zomato': 1,\n",
       " '#punekars': 1,\n",
       " '#stay': 1,\n",
       " '#staysafe': 1,\n",
       " '#staycation': 1,\n",
       " '#hotel': 1,\n",
       " '#hotels': 1,\n",
       " '#shopping': 1,\n",
       " '#shop': 1,\n",
       " '#affordablefashion': 1,\n",
       " '#stall': 1,\n",
       " '#exhibition': 1,\n",
       " '#fashion': 1,\n",
       " '#brands': 1,\n",
       " '#sale': 1,\n",
       " '#desserts': 1,\n",
       " '#foodstyling': 1,\n",
       " '#cakes': 1,\n",
       " '#foodart': 1,\n",
       " '#japan': 1,\n",
       " '#seafood': 2,\n",
       " '#shrimp': 1,\n",
       " '#lobster': 2,\n",
       " '#redlobster': 1,\n",
       " '#seinfeld': 1,\n",
       " '#georgecastanza': 1,\n",
       " '#restaurants': 1,\n",
       " '#italy': 1,\n",
       " '#italianrestaurant': 1,\n",
       " '#italianfood': 1,\n",
       " '#wine': 1,\n",
       " '#ketchup': 1,\n",
       " '#heinz': 1,\n",
       " '#marketing': 1,\n",
       " '#miamibeach': 1,\n",
       " '#miami': 1,\n",
       " '#miamirestaurants': 1,\n",
       " '#michelinstar': 1,\n",
       " '#pickles': 1,\n",
       " '#pickleball': 1,\n",
       " '#pickleballislife': 1,\n",
       " '#picklelover': 1,\n",
       " '#momofuku': 1,\n",
       " '#chilicrunch': 1,\n",
       " '#spicy': 1,\n",
       " '#asianfood': 1,\n",
       " '#koreanfood': 1,\n",
       " '#foodbrand': 1,\n",
       " '#amazon': 1,\n",
       " '#grocery': 1,\n",
       " '#groceryshopping': 1,\n",
       " '#technology': 1,\n",
       " '#ai': 1,\n",
       " '#eclipse': 1,\n",
       " '#earthquake': 1,\n",
       " '#newyorkcity': 1,\n",
       " '#njearthquake': 1,\n",
       " '#nycearthquake': 1,\n",
       " '#seafoodlovers': 1,\n",
       " '#restaurant': 1,\n",
       " '#comedy': 1,\n",
       " '#news': 1}"
      ]
     },
     "execution_count": 127,
     "metadata": {},
     "output_type": "execute_result"
    }
   ],
   "source": [
    "def get_word_frequency(List_of_words):\n",
    "    dct = {}\n",
    "    for word in List_of_words:\n",
    "        dct[word] = dct.get(word,0) + 1\n",
    "    return dct\n",
    "\n",
    "# calling the function\n",
    "word_freq_dict = get_word_frequency(words_of_5_user)\n",
    "word_freq_dict"
   ]
  },
  {
   "cell_type": "code",
   "execution_count": 133,
   "id": "45b87fd5-7e28-49e5-b3a4-91cc07baa761",
   "metadata": {},
   "outputs": [
    {
     "data": {
      "text/plain": [
       "dict"
      ]
     },
     "execution_count": 133,
     "metadata": {},
     "output_type": "execute_result"
    }
   ],
   "source": [
    "type(word_freq_dict)"
   ]
  },
  {
   "cell_type": "markdown",
   "id": "cfe38150-aafc-4e01-928f-9dedc739c204",
   "metadata": {},
   "source": [
    "3. Create a csv file with two columns : the word and its frequency"
   ]
  },
  {
   "cell_type": "code",
   "execution_count": 131,
   "id": "7fa4a0ce-5799-4734-b41f-f27c3999e7a7",
   "metadata": {
    "scrolled": true
   },
   "outputs": [
    {
     "data": {
      "text/html": [
       "<div>\n",
       "<style scoped>\n",
       "    .dataframe tbody tr th:only-of-type {\n",
       "        vertical-align: middle;\n",
       "    }\n",
       "\n",
       "    .dataframe tbody tr th {\n",
       "        vertical-align: top;\n",
       "    }\n",
       "\n",
       "    .dataframe thead th {\n",
       "        text-align: right;\n",
       "    }\n",
       "</style>\n",
       "<table border=\"1\" class=\"dataframe\">\n",
       "  <thead>\n",
       "    <tr style=\"text-align: right;\">\n",
       "      <th></th>\n",
       "      <th>Word</th>\n",
       "      <th>Frequency</th>\n",
       "    </tr>\n",
       "  </thead>\n",
       "  <tbody>\n",
       "    <tr>\n",
       "      <th>0</th>\n",
       "      <td>#dilsefoodie</td>\n",
       "      <td>10</td>\n",
       "    </tr>\n",
       "    <tr>\n",
       "      <th>1</th>\n",
       "      <td>#food</td>\n",
       "      <td>11</td>\n",
       "    </tr>\n",
       "    <tr>\n",
       "      <th>2</th>\n",
       "      <td>#afeemhandi</td>\n",
       "      <td>1</td>\n",
       "    </tr>\n",
       "    <tr>\n",
       "      <th>3</th>\n",
       "      <td>#omelette</td>\n",
       "      <td>1</td>\n",
       "    </tr>\n",
       "    <tr>\n",
       "      <th>4</th>\n",
       "      <td>#streetfood</td>\n",
       "      <td>8</td>\n",
       "    </tr>\n",
       "    <tr>\n",
       "      <th>5</th>\n",
       "      <td>#cholekulche</td>\n",
       "      <td>1</td>\n",
       "    </tr>\n",
       "    <tr>\n",
       "      <th>6</th>\n",
       "      <td>#harghartiranga</td>\n",
       "      <td>1</td>\n",
       "    </tr>\n",
       "    <tr>\n",
       "      <th>7</th>\n",
       "      <td>#75For75</td>\n",
       "      <td>1</td>\n",
       "    </tr>\n",
       "    <tr>\n",
       "      <th>8</th>\n",
       "      <td>#amritmohatsav</td>\n",
       "      <td>1</td>\n",
       "    </tr>\n",
       "    <tr>\n",
       "      <th>9</th>\n",
       "      <td>#DilSeDesi</td>\n",
       "      <td>1</td>\n",
       "    </tr>\n",
       "    <tr>\n",
       "      <th>10</th>\n",
       "      <td>#punjab</td>\n",
       "      <td>1</td>\n",
       "    </tr>\n",
       "    <tr>\n",
       "      <th>11</th>\n",
       "      <td>#lassi</td>\n",
       "      <td>1</td>\n",
       "    </tr>\n",
       "    <tr>\n",
       "      <th>12</th>\n",
       "      <td>#gianilassi</td>\n",
       "      <td>1</td>\n",
       "    </tr>\n",
       "    <tr>\n",
       "      <th>13</th>\n",
       "      <td>#nonveg</td>\n",
       "      <td>3</td>\n",
       "    </tr>\n",
       "    <tr>\n",
       "      <th>14</th>\n",
       "      <td>#chicken</td>\n",
       "      <td>1</td>\n",
       "    </tr>\n",
       "    <tr>\n",
       "      <th>15</th>\n",
       "      <td>#mutton</td>\n",
       "      <td>1</td>\n",
       "    </tr>\n",
       "    <tr>\n",
       "      <th>16</th>\n",
       "      <td>#bangalore</td>\n",
       "      <td>1</td>\n",
       "    </tr>\n",
       "    <tr>\n",
       "      <th>17</th>\n",
       "      <td>#nonvegfood</td>\n",
       "      <td>1</td>\n",
       "    </tr>\n",
       "    <tr>\n",
       "      <th>18</th>\n",
       "      <td>#buffet</td>\n",
       "      <td>1</td>\n",
       "    </tr>\n",
       "    <tr>\n",
       "      <th>19</th>\n",
       "      <td>#gurgaon</td>\n",
       "      <td>1</td>\n",
       "    </tr>\n",
       "  </tbody>\n",
       "</table>\n",
       "</div>"
      ],
      "text/plain": [
       "               Word  Frequency\n",
       "0      #dilsefoodie         10\n",
       "1             #food         11\n",
       "2       #afeemhandi          1\n",
       "3         #omelette          1\n",
       "4       #streetfood          8\n",
       "5      #cholekulche          1\n",
       "6   #harghartiranga          1\n",
       "7          #75For75          1\n",
       "8    #amritmohatsav          1\n",
       "9        #DilSeDesi          1\n",
       "10          #punjab          1\n",
       "11           #lassi          1\n",
       "12      #gianilassi          1\n",
       "13          #nonveg          3\n",
       "14         #chicken          1\n",
       "15          #mutton          1\n",
       "16       #bangalore          1\n",
       "17      #nonvegfood          1\n",
       "18          #buffet          1\n",
       "19         #gurgaon          1"
      ]
     },
     "execution_count": 131,
     "metadata": {},
     "output_type": "execute_result"
    }
   ],
   "source": [
    "words = [ key for key,value in word_freq_dict.items()]\n",
    "word_frequency = [ value for key,value in word_freq_dict.items()]\n",
    "\n",
    "# Create a csv file with two columns : the word and its frequency\n",
    "columns = {\"Word\":words,\"Frequency\":word_frequency}\n",
    "\n",
    "# Create the pandas dataframe \n",
    "df = pd.DataFrame(columns)\n",
    "\n",
    "#using .to_csv pandas function to convert dataframe to csv without Index values\n",
    "df.to_csv('words_frequency.csv',index=False)\n",
    "\n",
    "# Printing the Top 20 Row of the table\n",
    "df.head(20)"
   ]
  },
  {
   "cell_type": "markdown",
   "id": "370dddc5-2635-4d10-9d01-63ce71de0932",
   "metadata": {},
   "source": [
    "4. Now, find the hashtags that were most popular among these bloggers"
   ]
  },
  {
   "cell_type": "code",
   "execution_count": 137,
   "id": "0aff9a70-3334-4f75-9bdd-c90dcc9bb043",
   "metadata": {},
   "outputs": [
    {
     "name": "stdout",
     "output_type": "stream",
     "text": [
      "#food --> 11 Hashtags\n",
      "#dilsefoodie --> 10 Hashtags\n",
      "#punefoodblogger --> 10 Hashtags\n",
      "#pune --> 9 Hashtags\n",
      "#streetfood --> 8 Hashtags\n",
      "#trending --> 8 Hashtags\n",
      "#punekar --> 8 Hashtags\n",
      "#explore --> 8 Hashtags\n",
      "#explorepage --> 7 Hashtags\n",
      "#tasty --> 6 Hashtags\n",
      "#trendingreels --> 6 Hashtags\n",
      "#recipe --> 5 Hashtags\n",
      "#recipevideo --> 5 Hashtags\n",
      "#reels --> 5 Hashtags\n",
      "#reelsinstagram --> 5 Hashtags\n",
      "#punecity --> 5 Hashtags\n",
      "#nonveg --> 3 Hashtags\n",
      "#NewInTown --> 3 Hashtags\n",
      "#whatiwore --> 3 Hashtags\n",
      "#photodump --> 3 Hashtags\n",
      "#love --> 3 Hashtags\n",
      "#weddingpictures --> 3 Hashtags\n",
      "#affordable --> 3 Hashtags\n",
      "#cheese --> 2 Hashtags\n",
      "#latenight --> 2 Hashtags\n",
      "#weddingdiaries --> 2 Hashtags\n",
      "#bridetobe --> 2 Hashtags\n",
      "#family --> 2 Hashtags\n",
      "#indianwedding --> 2 Hashtags\n",
      "#memories --> 2 Hashtags\n",
      "#viral --> 2 Hashtags\n",
      "#asmr --> 2 Hashtags\n",
      "#trend --> 2 Hashtags\n",
      "#yummy --> 2 Hashtags\n",
      "#summer --> 2 Hashtags\n",
      "#colddrink --> 2 Hashtags\n",
      "#reelitfeelit --> 2 Hashtags\n",
      "#deal --> 2 Hashtags\n",
      "#pizza --> 2 Hashtags\n",
      "#punefood --> 2 Hashtags\n",
      "#seafood --> 2 Hashtags\n",
      "#lobster --> 2 Hashtags\n",
      "#afeemhandi --> 1 Hashtags\n",
      "#omelette --> 1 Hashtags\n",
      "#cholekulche --> 1 Hashtags\n",
      "#harghartiranga --> 1 Hashtags\n",
      "#75For75 --> 1 Hashtags\n",
      "#amritmohatsav --> 1 Hashtags\n",
      "#DilSeDesi --> 1 Hashtags\n",
      "#punjab --> 1 Hashtags\n",
      "#lassi --> 1 Hashtags\n",
      "#gianilassi --> 1 Hashtags\n",
      "#chicken --> 1 Hashtags\n",
      "#mutton --> 1 Hashtags\n",
      "#bangalore --> 1 Hashtags\n",
      "#nonvegfood --> 1 Hashtags\n",
      "#buffet --> 1 Hashtags\n",
      "#gurgaon --> 1 Hashtags\n",
      "#unlimitedfood --> 1 Hashtags\n",
      "#vegetarian --> 1 Hashtags\n",
      "#Avatara --> 1 Hashtags\n",
      "#dubai --> 1 Hashtags\n",
      "#mumbai --> 1 Hashtags\n",
      "#tikkamasala --> 1 Hashtags\n",
      "#wedding --> 1 Hashtags\n",
      "#bride --> 1 Hashtags\n",
      "#newlyweds --> 1 Hashtags\n",
      "#bridalpictures --> 1 Hashtags\n",
      "#haldiceremony --> 1 Hashtags\n",
      "#mehendi --> 1 Hashtags\n",
      "#noida --> 1 Hashtags\n",
      "#explorenoida --> 1 Hashtags\n",
      "#chaat --> 1 Hashtags\n",
      "#golgappe --> 1 Hashtags\n",
      "#kiosk --> 1 Hashtags\n",
      "#papad --> 1 Hashtags\n",
      "#papaddosa --> 1 Hashtags\n",
      "#dosa --> 1 Hashtags\n",
      "#quickrecipe --> 1 Hashtags\n",
      "#cookinghack --> 1 Hashtags\n",
      "#GiveawayAlert --> 1 Hashtags\n",
      "#AD --> 1 Hashtags\n",
      "#emamihealthyandtasty --> 1 Hashtags\n",
      "#aslijhanjh --> 1 Hashtags\n",
      "#emamisarsontel --> 1 Hashtags\n",
      "#emamimustardoil --> 1 Hashtags\n",
      "#pulsemojito --> 1 Hashtags\n",
      "#viraldrink --> 1 Hashtags\n",
      "#pulse --> 1 Hashtags\n",
      "#chholebhature --> 1 Hashtags\n",
      "#onelove --> 1 Hashtags\n",
      "#easyrecipe --> 1 Hashtags\n",
      "#bakedpasta --> 1 Hashtags\n",
      "#pastarecipe --> 1 Hashtags\n",
      "#cheesy --> 1 Hashtags\n",
      "#mango --> 1 Hashtags\n",
      "#mangoseason --> 1 Hashtags\n",
      "#chilli --> 1 Hashtags\n",
      "#chillimango --> 1 Hashtags\n",
      "#drinks --> 1 Hashtags\n",
      "#kebab --> 1 Hashtags\n",
      "#kathiroll --> 1 Hashtags\n",
      "#rolls --> 1 Hashtags\n",
      "#instagood --> 1 Hashtags\n",
      "#icecream --> 1 Hashtags\n",
      "#domino --> 1 Hashtags\n",
      "#dominospizza🍕 --> 1 Hashtags\n",
      "#dominosoffers --> 1 Hashtags\n",
      "#lunch --> 1 Hashtags\n",
      "#pocketfriendly --> 1 Hashtags\n",
      "#pizzatime --> 1 Hashtags\n",
      "#trendingnow --> 1 Hashtags\n",
      "#mastani --> 1 Hashtags\n",
      "#explorar --> 1 Hashtags\n",
      "#chai --> 1 Hashtags\n",
      "#breakfast --> 1 Hashtags\n",
      "#breakfastideas --> 1 Hashtags\n",
      "#foodblogger --> 1 Hashtags\n",
      "#foodie --> 1 Hashtags\n",
      "#pavbhaji --> 1 Hashtags\n",
      "#pureveg --> 1 Hashtags\n",
      "#resturant --> 1 Hashtags\n",
      "#pizzalover --> 1 Hashtags\n",
      "#delicious --> 1 Hashtags\n",
      "#offer --> 1 Hashtags\n",
      "#deals --> 1 Hashtags\n",
      "#zomato --> 1 Hashtags\n",
      "#punekars --> 1 Hashtags\n",
      "#stay --> 1 Hashtags\n",
      "#staysafe --> 1 Hashtags\n",
      "#staycation --> 1 Hashtags\n",
      "#hotel --> 1 Hashtags\n",
      "#hotels --> 1 Hashtags\n",
      "#shopping --> 1 Hashtags\n",
      "#shop --> 1 Hashtags\n",
      "#affordablefashion --> 1 Hashtags\n",
      "#stall --> 1 Hashtags\n",
      "#exhibition --> 1 Hashtags\n",
      "#fashion --> 1 Hashtags\n",
      "#brands --> 1 Hashtags\n",
      "#sale --> 1 Hashtags\n",
      "#desserts --> 1 Hashtags\n",
      "#foodstyling --> 1 Hashtags\n",
      "#cakes --> 1 Hashtags\n",
      "#foodart --> 1 Hashtags\n",
      "#japan --> 1 Hashtags\n",
      "#shrimp --> 1 Hashtags\n",
      "#redlobster --> 1 Hashtags\n",
      "#seinfeld --> 1 Hashtags\n",
      "#georgecastanza --> 1 Hashtags\n",
      "#restaurants --> 1 Hashtags\n",
      "#italy --> 1 Hashtags\n",
      "#italianrestaurant --> 1 Hashtags\n",
      "#italianfood --> 1 Hashtags\n",
      "#wine --> 1 Hashtags\n",
      "#ketchup --> 1 Hashtags\n",
      "#heinz --> 1 Hashtags\n",
      "#marketing --> 1 Hashtags\n",
      "#miamibeach --> 1 Hashtags\n",
      "#miami --> 1 Hashtags\n",
      "#miamirestaurants --> 1 Hashtags\n",
      "#michelinstar --> 1 Hashtags\n",
      "#pickles --> 1 Hashtags\n",
      "#pickleball --> 1 Hashtags\n",
      "#pickleballislife --> 1 Hashtags\n",
      "#picklelover --> 1 Hashtags\n",
      "#momofuku --> 1 Hashtags\n",
      "#chilicrunch --> 1 Hashtags\n",
      "#spicy --> 1 Hashtags\n",
      "#asianfood --> 1 Hashtags\n",
      "#koreanfood --> 1 Hashtags\n",
      "#foodbrand --> 1 Hashtags\n",
      "#amazon --> 1 Hashtags\n",
      "#grocery --> 1 Hashtags\n",
      "#groceryshopping --> 1 Hashtags\n",
      "#technology --> 1 Hashtags\n",
      "#ai --> 1 Hashtags\n",
      "#eclipse --> 1 Hashtags\n",
      "#earthquake --> 1 Hashtags\n",
      "#newyorkcity --> 1 Hashtags\n",
      "#njearthquake --> 1 Hashtags\n",
      "#nycearthquake --> 1 Hashtags\n",
      "#seafoodlovers --> 1 Hashtags\n",
      "#restaurant --> 1 Hashtags\n",
      "#comedy --> 1 Hashtags\n",
      "#news --> 1 Hashtags\n"
     ]
    }
   ],
   "source": [
    "Sort_hasttag = sorted(word_freq_dict.items(), key=lambda x: x[1], reverse=True)\n",
    "for i in Sort_hasttag:\n",
    "    print(i[0],'-->',i[1],'Hashtags')"
   ]
  },
  {
   "cell_type": "markdown",
   "id": "da510740-b09f-40d3-9612-967ed45f5c26",
   "metadata": {},
   "source": [
    "5. Plot a Pie Chart of the top 5 hashtags obtained and the number of times they were used by these bloggers in the scraped posts."
   ]
  },
  {
   "cell_type": "code",
   "execution_count": 142,
   "id": "ffa7ddda-3ad5-4302-ad27-3a434e485895",
   "metadata": {},
   "outputs": [
    {
     "data": {
      "image/png": "[encoded data removed]",
      "text/plain": [
       "<Figure size 640x480 with 1 Axes>"
      ]
     },
     "metadata": {},
     "output_type": "display_data"
    }
   ],
   "source": [
    "top_five_hastags = [ i[0] for i in Sort_hasttag[:5]]\n",
    "hastag_counts = [ i[1] for i in Sort_hasttag[:5]]\n",
    "\n",
    "plt.pie(hastag_counts,labels=top_five_hastags,autopct=\"%.2f\")\n",
    "plt.show()"
   ]
  },
  {
   "cell_type": "markdown",
   "id": "89fb4caf-2637-4d34-be38-ee4b2ee9b67d",
   "metadata": {},
   "source": [
    "Problem 3"
   ]
  },
  {
   "cell_type": "markdown",
   "id": "080048cf-8963-4810-8fcb-ae6031a08120",
   "metadata": {},
   "source": [
    "1. Find out the likes of the top 10 posts of the 5 handles obtained earli"
   ]
  },
  {
   "cell_type": "code",
   "execution_count": 152,
   "id": "6f7cb4b6-7c55-46ad-a7de-69b8fd7fd71c",
   "metadata": {},
   "outputs": [],
   "source": [
    "def Likes_of_post(user_url,No_of_post):\n",
    "        \n",
    "    Totel_Likes = 0\n",
    "    driver.get(user_url)\n",
    "    time.sleep(2)\n",
    "    First_Post = wait.until(EC.presence_of_element_located((By.CLASS_NAME,'_aagw')))\n",
    "    First_Post.click()\n",
    "    no_of_post=0\n",
    "    while True:\n",
    "\n",
    "        HTML = wait.until(EC.presence_of_element_located((By.CLASS_NAME,\"html-span.xdj266r.x11i5rnm.xat24cr.x1mh8g0r.xexx8yu.x4uap5.x18d9i69.xkhd6sd.x1hl2dhg.x16tdsg8.x1vvkbs\")))\n",
    "        # Likes = BeautifulSoup(HTML.get_attribute('innerHTML'),'html.parser').find_all('span')[-1]\n",
    "        Likes = int(HTML.text.replace(',',''))\n",
    "        Totel_Likes+=Likes\n",
    "        no_of_post += 1\n",
    "        if No_of_post==no_of_post:\n",
    "            break\n",
    "\n",
    "        Next_post = wait.until(EC.presence_of_element_located((By.CLASS_NAME,'_aaqg._aaqh')))\n",
    "        Next_post.click()\n",
    "        time.sleep(2)\n",
    "\n",
    "    driver.back()\n",
    "    return Totel_Likes"
   ]
  },
  {
   "cell_type": "code",
   "execution_count": 154,
   "id": "c61fc423-b53a-443f-95dc-efcf9efa9791",
   "metadata": {},
   "outputs": [
    {
     "name": "stdout",
     "output_type": "stream",
     "text": [
      "dilsefoodie ---> 57540\n",
      "\n",
      "foodtalkindia ---> 92250\n",
      "\n",
      "food_lunatic ---> 31090\n",
      "\n",
      "pune_food_blogger ---> 30150\n",
      "\n",
      "food ---> 12470\n",
      "\n"
     ]
    }
   ],
   "source": [
    "Total_likes_of_user = {}\n",
    "for Id in Top_5_handle:\n",
    "    user_url = User_Ids[Id]\n",
    "    Total_Likes = Likes_of_post(user_url,10)\n",
    "    Total_likes_of_user[Id]=Total_Likes\n",
    "    print(Id,'--->',Total_Likes)"
   ]
  },
  {
   "cell_type": "markdown",
   "id": "837b14e3-eb38-4401-9a75-474271971f4a",
   "metadata": {},
   "source": [
    "2. Calculate the average likes for a handle."
   ]
  },
  {
   "cell_type": "code",
   "execution_count": 155,
   "id": "1353718e-2c66-411e-9d60-e8ea39f88cb7",
   "metadata": {},
   "outputs": [
    {
     "name": "stdout",
     "output_type": "stream",
     "text": [
      "dilsefoodie ----> 5754\n",
      "foodtalkindia ----> 9225\n",
      "food_lunatic ----> 3109\n",
      "pune_food_blogger ----> 3015\n",
      "food ----> 1247\n"
     ]
    }
   ],
   "source": [
    "average_likes_dict={}\n",
    "for Id,Total_Likes in Total_likes_of_user.items():\n",
    "    avg_likes = (Total_Likes/10)\n",
    "    average_likes_dict[Id]=avg_likes\n",
    "    print(Id,'---->',format(avg_likes,'.0f'))"
   ]
  },
  {
   "cell_type": "markdown",
   "id": "cc0a7994-54be-4d35-a8a4-4340e2099a92",
   "metadata": {},
   "source": [
    "3. Divide the average likes obtained from the number of followers of the handle to get the average followers:like ratio of each handle."
   ]
  },
  {
   "cell_type": "code",
   "execution_count": 159,
   "id": "5ca2d026-b641-4f5d-a72d-d0851d152eac",
   "metadata": {},
   "outputs": [
    {
     "name": "stdout",
     "output_type": "stream",
     "text": [
      "dilsefoodie ----> 216 : 5754\n",
      "foodtalkindia ----> 33 : 9225\n",
      "food_lunatic ----> 75 : 3109\n",
      "pune_food_blogger ----> 72 : 3015\n",
      "food ----> 145 : 1247\n"
     ]
    }
   ],
   "source": [
    "avg_followers = {}\n",
    "for ID in Top_5_handle:\n",
    "    avg_followers_count = int(Top_5_followed_user[ID]/average_likes_dict[ID])\n",
    "    avg_followers[ID]=avg_followers_count\n",
    "    print(ID,'---->',avg_followers_count,':',int(average_likes_dict[ID]))"
   ]
  },
  {
   "cell_type": "markdown",
   "id": "eda2c75e-65a0-49db-8f2e-22e53758aa6f",
   "metadata": {},
   "source": [
    "4. Create a bar graph to depict the above obtained information."
   ]
  },
  {
   "cell_type": "code",
   "execution_count": 168,
   "id": "c24fc087-e889-4f4f-a9db-daef5b3c9bdc",
   "metadata": {},
   "outputs": [
    {
     "data": {
      "image/png": "[encoded data removed]",
      "text/plain": [
       "<Figure size 640x480 with 1 Axes>"
      ]
     },
     "metadata": {},
     "output_type": "display_data"
    }
   ],
   "source": [
    "username = list(average_likes_dict.keys())\n",
    "avg_like = list(average_likes_dict.values())\n",
    "\n",
    "plt.bar(username,avg_like,color='black',alpha=0.6)\n",
    "plt.ylabel(\"Average Likes\",size=15)\n",
    "plt.xlabel(\"Handle's Name\",size=15)\n",
    "plt.xticks(rotation = 45)\n",
    "plt.title('Average like for each handle ',fontsize=20,alpha=0.8)\n",
    "plt.grid()\n",
    "plt.show()"
   ]
  },
  {
   "cell_type": "code",
   "execution_count": null,
   "id": "586427d9-caf8-4e8b-9208-147479ab5f11",
   "metadata": {},
   "outputs": [],
   "source": []
  }
 ],
 "metadata": {
  "kernelspec": {
   "display_name": "Python 3 (ipykernel)",
   "language": "python",
   "name": "python3"
  },
  "language_info": {
   "codemirror_mode": {
    "name": "ipython",
    "version": 3
   },
   "file_extension": ".py",
   "mimetype": "text/x-python",
   "name": "python",
   "nbconvert_exporter": "python",
   "pygments_lexer": "ipython3",
   "version": "3.11.5"
  }
 },
 "nbformat": 4,
 "nbformat_minor": 5
}
